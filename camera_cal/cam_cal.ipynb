{
 "cells": [
  {
   "cell_type": "code",
   "execution_count": 8,
   "metadata": {},
   "outputs": [],
   "source": [
    "import numpy as np\n",
    "import cv2\n",
    "import glob\n",
    "import pickle"
   ]
  },
  {
   "cell_type": "code",
   "execution_count": 9,
   "metadata": {},
   "outputs": [
    {
     "name": "stdout",
     "output_type": "stream",
     "text": [
      "working on  ./calibration6.jpg\n",
      "working on  ./calibration7.jpg\n",
      "working on  ./calibration3.jpg\n",
      "working on  ./calibration2.jpg\n",
      "working on  ./calibration20.jpg\n",
      "working on  ./calibration19.jpg\n",
      "working on  ./calibration18.jpg\n",
      "working on  ./calibration15.jpg\n",
      "working on  ./calibration14.jpg\n",
      "working on  ./calibration16.jpg\n",
      "working on  ./calibration17.jpg\n",
      "working on  ./calibration13.jpg\n",
      "working on  ./calibration12.jpg\n",
      "working on  ./calibration10.jpg\n",
      "working on  ./calibration11.jpg\n",
      "working on  ./calibration9.jpg\n",
      "working on  ./calibration8.jpg\n"
     ]
    }
   ],
   "source": [
    "#prepare object points, like (0,0,0), (1,0,0), (2,0,0)..... (8,5,0)\n",
    "objp = np.zeros((6*9, 3), np.float32)\n",
    "objp[:,:2] = np.mgrid[0:9, 0:6].T.reshape(-1,2)\n",
    "\n",
    "#Arrays to store object points and image points from all the images\n",
    "objpoints = [] # 3d points in real world space\n",
    "imgpoints = [] # 3d points in image plane\n",
    "\n",
    "#make a list of calibration images\n",
    "images = glob.glob('./calibration*.jpg')\n",
    "\n",
    "#step through the list and search for chessboard corners\n",
    "for idx, fname in enumerate(images):\n",
    "    img = cv2.imread(fname)\n",
    "    gray = cv2.cvtColor(img, cv2.COLOR_BGR2GRAY)\n",
    "    \n",
    "    #find the chessboard corner\n",
    "    ret, corners = cv2.findChessboardCorners(gray, (9,6), None)\n",
    "    \n",
    "    #if found, add object points, image points \n",
    "    if ret == True:\n",
    "        print('working on ', fname)\n",
    "        objpoints.append(objp)\n",
    "        imgpoints.append(corners)\n",
    "        \n",
    "        #draw and display the corners \n",
    "        cv2.drawChessboardCorners(img, (9,6), corners, ret)\n",
    "        write_name = 'corners_found'+str(idx)+'.jpg'\n",
    "        cv2.imwrite(write_name, img)\n",
    "        \n",
    "        \n",
    "#load image for reference\n",
    "img = cv2.imread('./calibration1.jpg')\n",
    "img_size = (img.shape[1], img.shape[0])\n",
    "\n",
    "#Do camera calibration given object points and image points\n",
    "ret, mtx, dist, rvecs, tvecs = cv2.calibrateCamera(objpoints, imgpoints, img_size, None, None)\n",
    "\n",
    "\n",
    "#save the camera calibration result for later use ( we don't worry about rvecs / tvecs )\n",
    "dist_pickle = {}\n",
    "dist_pickle['mtx'] = mtx\n",
    "dist_pickle['dist'] = dist\n",
    "pickle.dump(dist_pickle, open('./calibration_pickle.p', 'wb'))"
   ]
  },
  {
   "cell_type": "code",
   "execution_count": null,
   "metadata": {},
   "outputs": [],
   "source": []
  }
 ],
 "metadata": {
  "kernelspec": {
   "display_name": "Python 3",
   "language": "python",
   "name": "python3"
  },
  "language_info": {
   "codemirror_mode": {
    "name": "ipython",
    "version": 3
   },
   "file_extension": ".py",
   "mimetype": "text/x-python",
   "name": "python",
   "nbconvert_exporter": "python",
   "pygments_lexer": "ipython3",
   "version": "3.5.4"
  },
  "widgets": {
   "state": {},
   "version": "1.1.2"
  }
 },
 "nbformat": 4,
 "nbformat_minor": 2
}
